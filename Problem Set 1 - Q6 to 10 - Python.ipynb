{
 "cells": [
  {
   "cell_type": "markdown",
   "id": "8029d180",
   "metadata": {},
   "source": [
    "# Question 6\n",
    "16. You can turn a word into pig-Latin using the following two rules (simplified):\n",
    "• If the word starts with a consonant, move that letter to the end and append\n",
    "'ay'. For example, 'happy' becomes 'appyhay' and 'pencil' becomes 'encilpay'.\n",
    "• If the word starts with a vowel, simply append 'way' to the end of the word.\n",
    "For example, 'enter' becomes 'enterway' and 'other' becomes 'otherway' . For\n",
    "our purposes, there are 5 vowels: a, e, i, o, u (so we count y as a consonant).\n",
    "Write a function pig() that takes a word (i.e., a string) as input and returns its pigLatin form. Your function should still work if the input word contains upper case\n",
    "characters. Your output should always be lower case however.\n",
    ">> pig('happy')\n",
    "'appyhay'\n",
    ">> pig('Enter')\n",
    "'enterway'"
   ]
  },
  {
   "cell_type": "code",
   "execution_count": 1,
   "id": "297b439e",
   "metadata": {},
   "outputs": [
    {
     "data": {
      "text/plain": [
       "'enterway'"
      ]
     },
     "execution_count": 1,
     "metadata": {},
     "output_type": "execute_result"
    }
   ],
   "source": [
    "def pig(word):\n",
    "    l =word[0]\n",
    "    if l in ('a', 'e', 'i', 'o', 'u','A','E','I','O','U'):\n",
    "        pig_latin_form =  word[0:] + \"way\"\n",
    "    else:\n",
    "        pig_latin_form = word[1:] + word[0] +\"ay\"\n",
    "    return pig_latin_form.lower()\n",
    "\n",
    "#str1 = input(\"Enter a word: \")\n",
    "#pig(str1)\n",
    "pig('happy')\n",
    "pig('Enter')"
   ]
  },
  {
   "cell_type": "markdown",
   "id": "e984f6e8",
   "metadata": {},
   "source": [
    "# Question 7\n",
    "File bloodtype1.txt records blood-types of patients (A, B, AB, O or OO) at a clinic.\n",
    "Write a function bldcount() that reads the file with name name and reports (i.e.,\n",
    "prints) how many patients there are in each bloodtype.\n",
    "> bldcount('bloodtype.txt')\n",
    "\n",
    "There are 10 patients of blood type A.\n",
    "\n",
    "There is one patient of blood type B.\n",
    "\n",
    "There are 10 patients of blood type AB.\n",
    "\n",
    "There are 12 patients of blood type O.\n",
    "\n",
    "There are no patients of blood type OO.\n"
   ]
  },
  {
   "cell_type": "code",
   "execution_count": 16,
   "id": "970bc2e6",
   "metadata": {},
   "outputs": [
    {
     "name": "stdout",
     "output_type": "stream",
     "text": [
      "There are 10 patients of blood type A.\n",
      "There are 12 patients of blood type O.\n",
      "There are 10 patients of blood type AB.\n",
      "There are no patients of blood type OO.\n",
      "There is 1 patients of blood type B.\n"
     ]
    }
   ],
   "source": [
    "def bldcount(filename):\n",
    "    file = open(\"bloodtype.txt\", \"r\")\n",
    "    content = file.read()\n",
    "    file.close()\n",
    "    \n",
    "    blood_groups = {'A', 'B', 'AB', 'O', 'OO'} #sorted(set(content.split()))\n",
    "    \n",
    "    for i in blood_groups:\n",
    "        blood_groups_count = content.count(\" \"+i+\" \")\n",
    "        \n",
    "        if(blood_groups_count == 1):\n",
    "            is_are = \"is\"\n",
    "        else:\n",
    "            is_are = \"are\"\n",
    "        \n",
    "        count = 'no' if blood_groups_count == 0 else blood_groups_count\n",
    "        output = \"There {} {} patients of blood type {}.\"\n",
    "        print(output.format(is_are,count,i))\n",
    "        \n",
    "\n",
    "bldcount('bloodtype.txt')"
   ]
  },
  {
   "cell_type": "markdown",
   "id": "9e6e88ad",
   "metadata": {},
   "source": [
    "# Question 8\n",
    "Write a function curconv() that takes as input:\n",
    "1. a currency represented using a string (e.g., 'JPY' for the Japanese Yen or\n",
    "'EUR' for the Euro)\n",
    "2. an amount\n",
    "and then converts and returns the amount in US dollars.\n",
    "> curconv('EUR', 100)\n",
    "122.96544\n",
    "> curconv('JPY', 100)\n",
    "1.241401\n",
    "The currency rates you will need are stored in file currencies.txt"
   ]
  },
  {
   "cell_type": "code",
   "execution_count": 17,
   "id": "9116e260",
   "metadata": {},
   "outputs": [
    {
     "name": "stdout",
     "output_type": "stream",
     "text": [
      "122.96544\n",
      "1.241401\n"
     ]
    }
   ],
   "source": [
    "def curconv(currency, amount):\n",
    "    file = open(\"currencies.txt\", \"r\")\n",
    "    content = file.readlines()\n",
    "    file.close()\n",
    "    \n",
    "    for line in content:\n",
    "        if currency in line:\n",
    "            array1 = line.split() \n",
    "            print(float(array1[1]) * 100)\n",
    "            \n",
    "             \n",
    "curconv('EUR', 100)\n",
    "curconv('JPY', 100)"
   ]
  },
  {
   "cell_type": "markdown",
   "id": "e5d60e5e",
   "metadata": {},
   "source": [
    "# Question 9\n",
    "Each of the following will cause an exception (an error). Identify what type of\n",
    "exception each will cause."
   ]
  },
  {
   "cell_type": "markdown",
   "id": "fc84e0af",
   "metadata": {},
   "source": [
    "\n",
    "| Description                                                                                                   |  Exception         |               \n",
    "|:-----------------                                                                                             |---------:          |          \n",
    "| Trying to add incompatible variables, as in adding 6 + ‘a’                                                    |  TypeError         | \n",
    "| Referring to the 12th item of a list that has only 10 items                                                   |  IndexError        |  \n",
    "| Using a value that is out of range for a function’s input, such as calling math.sqrt(-1.0)                    |  ValueError        |  \n",
    "| Using an undeclared variable, such as print(x) when x has not been defined                                    |  NameError         |  \n",
    "| Trying to open a file that does not exist, such as mistyping the file name or looking in the wrong directory. |  IOError           |   \n"
   ]
  },
  {
   "cell_type": "markdown",
   "id": "90eedee8",
   "metadata": {},
   "source": [
    "# Question 10\n",
    "Encryption is the process of hiding the meaning of a text by substituting letters in the\n",
    "message with other letters, according to some system. If the process is successful, no\n",
    "one but the intended recipient can understand the encrypted message. Cryptanalysis\n",
    "refers to attempts to undo the encryption, even if some details of the encryption are\n",
    "unknown (for example, if an encrypted message has been intercepted). The first step\n",
    "of cryptanalysis is often to build up a table of letter frequencies in the encrypted text.\n",
    "Assume that the string letters is already defined as\n",
    "'abcdefghijklmnopqrstuvwxyz'. Write a function called frequencies()\n",
    "that takes a string as its only parameter, and returns a list of integers, showing the\n",
    "number of times each character appears in the text. Your function may ignore any\n",
    "characters that are not in letters.\n",
    "> frequencies('The quick red fox got bored and went home.')\n",
    "[1, 1, 1, 3, 5, 1, 1, 2, 1, 0, 1, 0, 1, 2, 4, 0, 1, 2, 0, 2,\n",
    "1, 0, 1, 1, 0, 0]\n",
    "> frequencies('apple')"
   ]
  },
  {
   "cell_type": "code",
   "execution_count": 18,
   "id": "d49952cf",
   "metadata": {},
   "outputs": [
    {
     "name": "stdout",
     "output_type": "stream",
     "text": [
      "[1, 1, 1, 3, 5, 1, 1, 2, 1, 0, 1, 0, 1, 2, 4, 0, 1, 2, 0, 3, 1, 0, 1, 1, 0, 0]\n"
     ]
    }
   ],
   "source": [
    "def frequencies(str):\n",
    "    str =str.lower()\n",
    "    alphabet = [\"a\",\"b\",\"c\",\"d\",\"e\",\"f\",\"g\",\"h\",\"i\",\"j\",\"k\",\"l\",\"m\",\"n\",\"o\",\"p\",\"q\",\"r\",\"s\",\"t\",\"u\",\"v\",\"w\",\"x\",\"y\",\"z\"]\n",
    "    counts_alphabet_list = []\n",
    "    for i in alphabet:\n",
    "        count_per_character = str.count(i);\n",
    "        counts_alphabet_list.append(count_per_character)\n",
    "    print(counts_alphabet_list)\n",
    "\n",
    "frequencies('The quick red fox got bored and went home.')\n",
    "\n"
   ]
  },
  {
   "cell_type": "code",
   "execution_count": null,
   "id": "81cb30bc",
   "metadata": {},
   "outputs": [],
   "source": []
  }
 ],
 "metadata": {
  "kernelspec": {
   "display_name": "Python 3 (ipykernel)",
   "language": "python",
   "name": "python3"
  },
  "language_info": {
   "codemirror_mode": {
    "name": "ipython",
    "version": 3
   },
   "file_extension": ".py",
   "mimetype": "text/x-python",
   "name": "python",
   "nbconvert_exporter": "python",
   "pygments_lexer": "ipython3",
   "version": "3.9.7"
  }
 },
 "nbformat": 4,
 "nbformat_minor": 5
}
