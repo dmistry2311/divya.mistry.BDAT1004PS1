{
 "cells": [
  {
   "cell_type": "markdown",
   "id": "8cf8cd3a",
   "metadata": {},
   "source": [
    "# Question 1\n",
    "What data type is each of the following?"
   ]
  },
  {
   "cell_type": "markdown",
   "id": "6b960164",
   "metadata": {},
   "source": [
    "\n",
    "| Description                                                                                                   |  Exception         |               \n",
    "|:-----------------                                                                                             |---------:          |          \n",
    "|           5                                                    |  int         | \n",
    "|           5.0                                                   |  Float        |  \n",
    "|           5>1                    |  boolean        |  \n",
    "|           '5'                                    |  char         |  \n",
    "|           5*2                                   |  int         |  \n",
    "|           '5'*2                                    |  int         | \n",
    "|           '5' +'2'                                    |  int         | \n",
    "|            5/2                                    |  float         |\n",
    "|            5%2                                    |  int         | \n",
    "|            int{5,2,1}                                    |  array         | \n",
    "|            5==3                                    |  boolean         | \n",
    "|            Pi (the number)                                    |  double         | "
   ]
  },
  {
   "cell_type": "markdown",
   "id": "e8b6dc28",
   "metadata": {},
   "source": [
    "# Question 2a\n",
    "How many letters are there in 'Supercalifragilisticexpialidocious'?"
   ]
  },
  {
   "cell_type": "code",
   "execution_count": 9,
   "id": "5171bbac",
   "metadata": {},
   "outputs": [
    {
     "name": "stdout",
     "output_type": "stream",
     "text": [
      "String length is: 34\r\n"
     ]
    }
   ],
   "source": [
    "String txt = \"Supercalifragilisticexpialidocious\";\n",
    "Console.WriteLine(\"String length is: \" + txt.Length);"
   ]
  },
  {
   "cell_type": "markdown",
   "id": "f8ab50ed",
   "metadata": {},
   "source": [
    "# Question 2b\n",
    "Does 'Supercalifragilisticexpialidocious' contain 'ice' as a substring?  "
   ]
  },
  {
   "cell_type": "code",
   "execution_count": 10,
   "id": "61bcaa51",
   "metadata": {},
   "outputs": [
    {
     "name": "stdout",
     "output_type": "stream",
     "text": [
      "\"Supercalifragilisticexpialidocious\" string contains the substring \"ice\"? - True\r\n"
     ]
    }
   ],
   "source": [
    "String txt = \"Supercalifragilisticexpialidocious\";\n",
    "Boolean isPresent = txt.Contains(\"ice\");\n",
    "Console.WriteLine(\"\\\"Supercalifragilisticexpialidocious\\\" string contains the substring \\\"ice\\\"?\" + \" - \" + isPresent);"
   ]
  },
  {
   "cell_type": "markdown",
   "id": "802de24a",
   "metadata": {},
   "source": [
    "# Question 2c \n",
    "Which of the following words is the longest:\n",
    "Supercalifragilisticexpialidocious, Honorificabilitudinitatibus, or\n",
    "Bababadalgharaghtakamminarronnkonn?  "
   ]
  },
  {
   "cell_type": "code",
   "execution_count": 11,
   "id": "f9abc6db",
   "metadata": {},
   "outputs": [
    {
     "name": "stdout",
     "output_type": "stream",
     "text": [
      "Longest String: Supercalifragilisticexpialidocious\n",
      "Longest String: Bababadalgharaghtakamminarronnkonn\n"
     ]
    }
   ],
   "source": [
    "/*\n",
    "                    SOLUTION 1\n",
    "*/\n",
    "\n",
    "String[] string_arr = new string[] {\"Supercalifragilisticexpialidocious\",  \"Honorificabilitudinitatibus\", \"Bababadalgharaghtakamminarronnkonn\"};\n",
    "int i;\n",
    "\n",
    "int[] str_length = new int[string_arr.Length];\n",
    "\n",
    "for(i=0; i< string_arr.Length; i++)\n",
    "{\n",
    "    str_length[i]= string_arr[i].Length;\n",
    "}\n",
    "\n",
    "int maxValue = str_length.Max();\n",
    "int[] v = str_length.Select((b,i) => b == maxValue ? i : -1).Where(i => i != -1).ToArray();\n",
    "\n",
    "foreach(int i in v)\n",
    "{\n",
    "    Console.WriteLine(\"Longest String: \"+ string_arr[i]);\n",
    "}\n"
   ]
  },
  {
   "cell_type": "code",
   "execution_count": 12,
   "id": "3f38c614",
   "metadata": {},
   "outputs": [
    {
     "name": "stdout",
     "output_type": "stream",
     "text": [
      "There are two longest string in given set: Supercalifragilisticexpialidocious, Honorificabilitudinitatibusand their length is: 34\r\n"
     ]
    }
   ],
   "source": [
    "/*\n",
    "                    SOLUTION 2\n",
    "*/\n",
    "\n",
    "String str1,str2,str3;\n",
    "str1 = \"Supercalifragilisticexpialidocious\"; \n",
    "str2 = \"Honorificabilitudinitatibus\";\n",
    "str3 = \"Bababadalgharaghtakamminarronnkonn\";\n",
    "\n",
    "int str_length1, str_length2;\n",
    "str_length1 = str1.Length;\n",
    "str_length2 = str2.Length;\n",
    "\n",
    "if(str_length1 > str_length2)\n",
    "{\n",
    "    str_length2 = str3.Length;\n",
    "   if(str_length1 > str_length2)\n",
    "   {\n",
    "       Console.WriteLine(\"Longest String is:\" + str1 + \" with length: \" + str_length1);\n",
    "   }\n",
    "   else if(str_length1 == str_length2)\n",
    "   {\n",
    "       Console.WriteLine(\"There are two longest string in given set: \" + str1 +\", \" + str2 + \"and their length is: \" + str_length1);\n",
    "   }\n",
    "   else\n",
    "   {\n",
    "        Console.WriteLine(\"Longest String is:\" + str3 + \" with length: \" + str_length2);\n",
    "   }\n",
    "}\n",
    "else\n",
    "{\n",
    "    str_length1 = str3.Length;\n",
    "      if(str_length1 > str_length2)\n",
    "   {\n",
    "       Console.WriteLine(\"Longest String is:\" + str3 + \" with length: \" + str_length1);\n",
    "   }\n",
    "   else if(str_length1 == str_length2)\n",
    "   {\n",
    "       Console.WriteLine(\"There are two longest string in given set: \" + str3 +\", \" + str2 + \"and their length is: \" + str_length1);\n",
    "   }\n",
    "   else\n",
    "   {\n",
    "        Console.WriteLine(\"Longest String is:\" + str2 + \" with length: \" + str_length2);\n",
    "   }\n",
    "}\n"
   ]
  },
  {
   "cell_type": "markdown",
   "id": "017621ea",
   "metadata": {},
   "source": [
    "# Question 2d\n",
    "Which composer comes first in the dictionary: Which one comes last?\n",
    "\n",
    "'Berlioz', 'Borodin', 'Brian','Bartok', 'Bellini', 'Buxtehude', 'Bernstein'. \n",
    "\n",
    "\n"
   ]
  },
  {
   "cell_type": "code",
   "execution_count": 8,
   "id": "23c17f8a",
   "metadata": {},
   "outputs": [
    {
     "name": "stdout",
     "output_type": "stream",
     "text": [
      "Composer FIRST in the list is : Bartok\n",
      "Composer LAST in the list is : Buxtehude\n"
     ]
    }
   ],
   "source": [
    "String[] ComposerList = { \"Berlioz\", \"Borodin\", \"Brian\",\"Bartok\", \"Bellini\", \"Buxtehude\", \"Bernstein\" };\n",
    "Array.Sort(ComposerList );\n",
    "Console.WriteLine(\"Composer FIRST in the list is : \"+ ComposerList[0]);\n",
    "Console.WriteLine(\"Composer LAST in the list is : \"+ComposerList[ComposerList.Length-1]);"
   ]
  },
  {
   "cell_type": "markdown",
   "id": "b085f293",
   "metadata": {},
   "source": [
    "# Question 3\n",
    "\n",
    "Implement function triangleArea(a,b,c) that takes as input the lengths of the 3\n",
    "sides of a triangle and returns the area of the triangle. By Heron's formula, the area\n",
    "of a triangle with side lengths a, b, and c is\n",
    "s(s - a)(s -b)(s -c),\n",
    "where s = (a+b+c)/2.\n",
    "\n",
    ">> triangleArea(2,2,2)\n",
    "1.7320508075688772\n"
   ]
  },
  {
   "cell_type": "code",
   "execution_count": 18,
   "id": "1cb5c039",
   "metadata": {},
   "outputs": [
    {
     "name": "stdout",
     "output_type": "stream",
     "text": [
      "Area of a triangle is: 1.7320508075688772\r\n"
     ]
    }
   ],
   "source": [
    "public static double triangleArea(int a, int b, int c)\n",
    "{\n",
    "    \n",
    "    double s = (a + b + c) / 2;\n",
    "    return Math.Sqrt(s*(s - a)*(s - b)*(s - c));\n",
    "}\n",
    "\n",
    "Console.WriteLine(\"Area of a triangle is: \" + triangleArea(2, 2, 2));"
   ]
  },
  {
   "cell_type": "markdown",
   "id": "c67133da",
   "metadata": {},
   "source": [
    "# QUESTION 4\n",
    "Write a program in C# Sharp to separate odd and even integers in separate arrays.\n",
    "Go to the editor\n",
    "Test Data :\n",
    "Input the number of elements to be stored in the array :5\n",
    "Input 5 elements in the array :\n",
    "element - 0 : 25\n",
    "element - 1 : 47\n",
    "element - 2 : 42\n",
    "element - 3 : 56\n",
    "element - 4 : 32\n",
    "Expected Output:\n",
    "The Even elements are:\n",
    "42 56 32\n",
    "The Odd elements are :\n",
    "25 47"
   ]
  },
  {
   "cell_type": "markdown",
   "id": "9c61587a",
   "metadata": {},
   "source": [
    "using System;\n",
    "using System.Collections.Generic;\n",
    "\n",
    "namespace DP_Problem_set_1\n",
    "{\n",
    "    class StringFunctions\n",
    "    {\n",
    "        static void Main(string[] args)\n",
    "        {\n",
    "            Console.Write(\"Input the number of elements to be stored in the array :\");\n",
    "            int num_of_elements = int.Parse(Console.ReadLine());\n",
    "\n",
    "            Console.WriteLine($\"Input {num_of_elements} elements in the array :\");\n",
    "\n",
    "            int[] input_array = new int[num_of_elements];\n",
    "            List<int> even_array = new List<int>();\n",
    "            List<int> odd_array = new List<int>();\n",
    "\n",
    "            for (int i = 0; i < num_of_elements; i++)\n",
    "            {\n",
    "                Console.Write(\"element - \" + i + \" : \");\n",
    "                input_array[i] = int.Parse(Console.ReadLine());\n",
    "                if ((input_array[i] % 2) == 0)\n",
    "                {\n",
    "                    even_array.Add(input_array[i]);\n",
    "                }\n",
    "                else\n",
    "                {\n",
    "                    odd_array.Add(input_array[i]);\n",
    "                }\n",
    "            }\n",
    "\n",
    "            Console.WriteLine(\"The Even elements are:\");\n",
    "            Console.WriteLine(string.Join(\" \", even_array));\n",
    "            Console.WriteLine(\"The Odd elements are :\");\n",
    "            Console.WriteLine(string.Join(\" \", odd_array));\n",
    "\n",
    "        }\n",
    "    }\n",
    "}"
   ]
  },
  {
   "attachments": {
    "old%20even%20array.JPG": {
     "image/jpeg": "[encoded data removed]"
    }
   },
   "cell_type": "markdown",
   "id": "a4a471dd",
   "metadata": {},
   "source": [
    "![old%20even%20array.JPG](attachment:old%20even%20array.JPG)"
   ]
  },
  {
   "cell_type": "markdown",
   "id": "02e9a9f1",
   "metadata": {},
   "source": [
    "# Question 5a\n",
    "Write a function inside(x,y,x1,y1,x2,y2) that returns True or False\n",
    "depending on whether the point (x,y) lies in the rectangle with lower left\n",
    "corner (x1,y1) and upper right corner (x2,y2).\n",
    ">> inside(1,1,0,0,2,3)\n",
    "True\n",
    ">> inside(-1,-1,0,0,2,3)\n",
    "False"
   ]
  },
  {
   "cell_type": "code",
   "execution_count": 28,
   "id": "dab91119",
   "metadata": {},
   "outputs": [
    {
     "name": "stdout",
     "output_type": "stream",
     "text": [
      "Point (x,y) is within the rectangle? \n",
      "True\n",
      "False\n"
     ]
    }
   ],
   "source": [
    " static Boolean inside(float x, float y, float x1, float y1, float x2, float y2)\n",
    "            {\n",
    "                if ((x >= x1) && (x <= x2) && (y >= y1) && (y <= y2))\n",
    "                    return true;\n",
    "                else \n",
    "                    return false;\n",
    "            }\n",
    "Console.WriteLine(\"Point (x,y) is within the rectangle? \" );\n",
    "Console.WriteLine(inside(1,1,0,0,2,3));\n",
    "Console.WriteLine(inside(-1,-1,0,0,2,3));"
   ]
  },
  {
   "cell_type": "markdown",
   "id": "bbd49666",
   "metadata": {},
   "source": [
    "# Question 5b \n",
    "Use function inside() from part a. to write an expression that tests whether\n",
    "the point (1,1) lies in both of the following rectangles: one with lower left\n",
    "corner (0.3, 0.5) and upper right corner (1.1, 0.7) and the other with lower\n",
    "left corner (0.5, 0.2) and upper right corner (1.1, 2). "
   ]
  },
  {
   "cell_type": "code",
   "execution_count": 29,
   "id": "6b074cdb",
   "metadata": {},
   "outputs": [
    {
     "data": {
      "text/html": [
       "<div class=\"dni-plaintext\">False</div>"
      ]
     },
     "execution_count": 29,
     "metadata": {},
     "output_type": "execute_result"
    }
   ],
   "source": [
    " static Boolean inside(double x, double y, double x1, double y1, double x2, double y2)\n",
    "            {\n",
    "                if ((x >= x1) && (x <= x2) && (y >= y1) && (y <= y2))\n",
    "                    return true;\n",
    "                else \n",
    "                    return false;\n",
    "            }\n",
    "            \n",
    "if(inside(1,1,0.3,0.5,1.1,0.7) && inside(1,1,0.5,0.2,1.1,2))\n",
    "    {\n",
    "        return true;\n",
    "    }\n",
    "    else \n",
    "    {\n",
    "        return false;\n",
    "    }\n"
   ]
  },
  {
   "cell_type": "code",
   "execution_count": null,
   "id": "d9306c51",
   "metadata": {},
   "outputs": [],
   "source": []
  }
 ],
 "metadata": {
  "kernelspec": {
   "display_name": ".NET (C#)",
   "language": "C#",
   "name": ".net-csharp"
  },
  "language_info": {
   "file_extension": ".cs",
   "mimetype": "text/x-csharp",
   "name": "C#",
   "pygments_lexer": "csharp",
   "version": "8.0"
  }
 },
 "nbformat": 4,
 "nbformat_minor": 5
}
